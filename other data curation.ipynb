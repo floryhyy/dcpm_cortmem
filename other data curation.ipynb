{
 "cells": [
  {
   "cell_type": "code",
   "execution_count": 3,
   "id": "ab0ee416",
   "metadata": {},
   "outputs": [],
   "source": [
    "import pandas as pd\n",
    "import scipy.io as sio\n"
   ]
  },
  {
   "cell_type": "markdown",
   "id": "5a1258a0",
   "metadata": {},
   "source": [
    "# demographic\n"
   ]
  },
  {
   "cell_type": "code",
   "execution_count": 4,
   "id": "94fc4e3e",
   "metadata": {},
   "outputs": [],
   "source": [
    "sub_ls=[\"9001\",\"9002\",\"9003\",\"9004\",\"9005\",\"9006\",\"9007\",\"9008\",\"9010\",\"9011\",\"9013\",\"9016\",\"9018\",\"9021\",\"9022\",\"9027\",\"9028\",\"9030\",\"9031\",\"9033\",\"9036\",\"9037\" ,\"9038\",\"9039\",\"9040\",\"9041\"]\n"
   ]
  },
  {
   "cell_type": "code",
   "execution_count": 5,
   "id": "808632f8",
   "metadata": {},
   "outputs": [],
   "source": [
    "df=pd.read_csv('data/demog_summary.csv')"
   ]
  },
  {
   "cell_type": "code",
   "execution_count": 6,
   "id": "7d97a0bf",
   "metadata": {},
   "outputs": [
    {
     "data": {
      "text/html": [
       "<div>\n",
       "<style scoped>\n",
       "    .dataframe tbody tr th:only-of-type {\n",
       "        vertical-align: middle;\n",
       "    }\n",
       "\n",
       "    .dataframe tbody tr th {\n",
       "        vertical-align: top;\n",
       "    }\n",
       "\n",
       "    .dataframe thead th {\n",
       "        text-align: right;\n",
       "    }\n",
       "</style>\n",
       "<table border=\"1\" class=\"dataframe\">\n",
       "  <thead>\n",
       "    <tr style=\"text-align: right;\">\n",
       "      <th></th>\n",
       "      <th>subj_id</th>\n",
       "      <th>audit_score</th>\n",
       "      <th>race</th>\n",
       "      <th>education</th>\n",
       "      <th>age</th>\n",
       "      <th>ders_total</th>\n",
       "      <th>pss_total</th>\n",
       "      <th>intake_pos_sum</th>\n",
       "      <th>intake_neg_sum</th>\n",
       "      <th>ASI30day</th>\n",
       "      <th>...</th>\n",
       "      <th>fmri_PANAS_pos_sum_placebo_postscan</th>\n",
       "      <th>fmri_PANAS_neg_sum_placebo_postscan</th>\n",
       "      <th>behav_PANAS_pos_sum_cort</th>\n",
       "      <th>behav_PANAS_neg_sum_cort</th>\n",
       "      <th>behav_PANAS_pos_sum_placebo</th>\n",
       "      <th>behav_PANAS_neg_sum_placebo</th>\n",
       "      <th>ATT_ml_cortisol</th>\n",
       "      <th>ATT_BAC_cortisol</th>\n",
       "      <th>ATT_ml_placebo</th>\n",
       "      <th>ATT_BAC_placebo</th>\n",
       "    </tr>\n",
       "    <tr>\n",
       "      <th>sex</th>\n",
       "      <th></th>\n",
       "      <th></th>\n",
       "      <th></th>\n",
       "      <th></th>\n",
       "      <th></th>\n",
       "      <th></th>\n",
       "      <th></th>\n",
       "      <th></th>\n",
       "      <th></th>\n",
       "      <th></th>\n",
       "      <th></th>\n",
       "      <th></th>\n",
       "      <th></th>\n",
       "      <th></th>\n",
       "      <th></th>\n",
       "      <th></th>\n",
       "      <th></th>\n",
       "      <th></th>\n",
       "      <th></th>\n",
       "      <th></th>\n",
       "      <th></th>\n",
       "    </tr>\n",
       "  </thead>\n",
       "  <tbody>\n",
       "    <tr>\n",
       "      <th>female</th>\n",
       "      <td>11</td>\n",
       "      <td>11</td>\n",
       "      <td>10</td>\n",
       "      <td>11</td>\n",
       "      <td>11</td>\n",
       "      <td>11</td>\n",
       "      <td>11</td>\n",
       "      <td>11</td>\n",
       "      <td>11</td>\n",
       "      <td>11</td>\n",
       "      <td>...</td>\n",
       "      <td>11</td>\n",
       "      <td>11</td>\n",
       "      <td>11</td>\n",
       "      <td>11</td>\n",
       "      <td>11</td>\n",
       "      <td>11</td>\n",
       "      <td>11</td>\n",
       "      <td>11</td>\n",
       "      <td>11</td>\n",
       "      <td>11</td>\n",
       "    </tr>\n",
       "    <tr>\n",
       "      <th>male</th>\n",
       "      <td>15</td>\n",
       "      <td>15</td>\n",
       "      <td>14</td>\n",
       "      <td>15</td>\n",
       "      <td>15</td>\n",
       "      <td>15</td>\n",
       "      <td>15</td>\n",
       "      <td>15</td>\n",
       "      <td>15</td>\n",
       "      <td>15</td>\n",
       "      <td>...</td>\n",
       "      <td>13</td>\n",
       "      <td>13</td>\n",
       "      <td>14</td>\n",
       "      <td>14</td>\n",
       "      <td>15</td>\n",
       "      <td>15</td>\n",
       "      <td>14</td>\n",
       "      <td>15</td>\n",
       "      <td>14</td>\n",
       "      <td>15</td>\n",
       "    </tr>\n",
       "  </tbody>\n",
       "</table>\n",
       "<p>2 rows × 40 columns</p>\n",
       "</div>"
      ],
      "text/plain": [
       "        subj_id  audit_score  race  education  age  ders_total  pss_total  \\\n",
       "sex                                                                         \n",
       "female       11           11    10         11   11          11         11   \n",
       "male         15           15    14         15   15          15         15   \n",
       "\n",
       "        intake_pos_sum  intake_neg_sum  ASI30day  ...  \\\n",
       "sex                                               ...   \n",
       "female              11              11        11  ...   \n",
       "male                15              15        15  ...   \n",
       "\n",
       "        fmri_PANAS_pos_sum_placebo_postscan  \\\n",
       "sex                                           \n",
       "female                                   11   \n",
       "male                                     13   \n",
       "\n",
       "        fmri_PANAS_neg_sum_placebo_postscan  behav_PANAS_pos_sum_cort  \\\n",
       "sex                                                                     \n",
       "female                                   11                        11   \n",
       "male                                     13                        14   \n",
       "\n",
       "        behav_PANAS_neg_sum_cort  behav_PANAS_pos_sum_placebo  \\\n",
       "sex                                                             \n",
       "female                        11                           11   \n",
       "male                          14                           15   \n",
       "\n",
       "        behav_PANAS_neg_sum_placebo  ATT_ml_cortisol  ATT_BAC_cortisol  \\\n",
       "sex                                                                      \n",
       "female                           11               11                11   \n",
       "male                             15               14                15   \n",
       "\n",
       "        ATT_ml_placebo  ATT_BAC_placebo  \n",
       "sex                                      \n",
       "female              11               11  \n",
       "male                14               15  \n",
       "\n",
       "[2 rows x 40 columns]"
      ]
     },
     "execution_count": 6,
     "metadata": {},
     "output_type": "execute_result"
    }
   ],
   "source": [
    "df[df['subj_id'].apply(lambda x: str(x) in sub_ls)].groupby(\"sex\").count()"
   ]
  },
  {
   "cell_type": "code",
   "execution_count": 7,
   "id": "48888a4c",
   "metadata": {},
   "outputs": [
    {
     "data": {
      "text/plain": [
       "27.615384615384617"
      ]
     },
     "execution_count": 7,
     "metadata": {},
     "output_type": "execute_result"
    }
   ],
   "source": [
    "df[df['subj_id'].apply(lambda x: str(x) in sub_ls)]['age'].mean()"
   ]
  },
  {
   "cell_type": "code",
   "execution_count": 8,
   "id": "8611d4f2",
   "metadata": {},
   "outputs": [
    {
     "data": {
      "text/plain": [
       "5.564724058401623"
      ]
     },
     "execution_count": 8,
     "metadata": {},
     "output_type": "execute_result"
    }
   ],
   "source": [
    "df[df['subj_id'].apply(lambda x: str(x) in sub_ls)]['age'].std()"
   ]
  },
  {
   "cell_type": "markdown",
   "id": "907feda0",
   "metadata": {},
   "source": [
    "# trial used in the model"
   ]
  },
  {
   "cell_type": "code",
   "execution_count": 30,
   "id": "d9aaf9a4",
   "metadata": {},
   "outputs": [],
   "source": [
    "folder=\"/Users/yhuan256/Library/CloudStorage/Box-Box/CAMSLab_Projects/Studies/Cort_Mem/Data/dynamicCPM/BP_filtered/5s_onward/analysis_data/\";            \n",
    "pheno_ls=[\"RecogAcc_coded\", \"Arous_All\"]\n",
    "stim_ls=[\"alc\", \"tool\"]\n",
    "pill_ls=[\"cortisol\", \"placebo\"]\n",
    "n_ls=[]\n",
    "pill_dic=[]\n",
    "stim_dic=[]\n",
    "pheno_dic=[]\n",
    "\n",
    "for pheno in pheno_ls:\n",
    "    for stim in stim_ls:\n",
    "        for pill in pill_ls:\n",
    "            filename=folder+'n26_'+pheno+'_'+pill+'_'+stim+'_trialID_dynamic_connectome.mat'\n",
    "            data=sio.loadmat(filename);\n",
    "            n_trials=data['y'].shape[1]\n",
    "            n_ls.append(n_trials)\n",
    "            pill_dic.append(pill)\n",
    "            stim_dic.append(stim)\n",
    "            pheno_dic.append(pheno)"
   ]
  },
  {
   "cell_type": "code",
   "execution_count": 33,
   "id": "846f5e50",
   "metadata": {},
   "outputs": [
    {
     "data": {
      "text/html": [
       "<div>\n",
       "<style scoped>\n",
       "    .dataframe tbody tr th:only-of-type {\n",
       "        vertical-align: middle;\n",
       "    }\n",
       "\n",
       "    .dataframe tbody tr th {\n",
       "        vertical-align: top;\n",
       "    }\n",
       "\n",
       "    .dataframe thead th {\n",
       "        text-align: right;\n",
       "    }\n",
       "</style>\n",
       "<table border=\"1\" class=\"dataframe\">\n",
       "  <thead>\n",
       "    <tr style=\"text-align: right;\">\n",
       "      <th></th>\n",
       "      <th>Behavior</th>\n",
       "      <th>Pill</th>\n",
       "      <th>Run</th>\n",
       "      <th>N_trials</th>\n",
       "    </tr>\n",
       "  </thead>\n",
       "  <tbody>\n",
       "    <tr>\n",
       "      <th>0</th>\n",
       "      <td>RecogAcc_coded</td>\n",
       "      <td>cortisol</td>\n",
       "      <td>alc</td>\n",
       "      <td>1016</td>\n",
       "    </tr>\n",
       "    <tr>\n",
       "      <th>1</th>\n",
       "      <td>RecogAcc_coded</td>\n",
       "      <td>placebo</td>\n",
       "      <td>alc</td>\n",
       "      <td>1031</td>\n",
       "    </tr>\n",
       "    <tr>\n",
       "      <th>2</th>\n",
       "      <td>RecogAcc_coded</td>\n",
       "      <td>cortisol</td>\n",
       "      <td>tool</td>\n",
       "      <td>1034</td>\n",
       "    </tr>\n",
       "    <tr>\n",
       "      <th>3</th>\n",
       "      <td>RecogAcc_coded</td>\n",
       "      <td>placebo</td>\n",
       "      <td>tool</td>\n",
       "      <td>1031</td>\n",
       "    </tr>\n",
       "    <tr>\n",
       "      <th>4</th>\n",
       "      <td>Arous_All</td>\n",
       "      <td>cortisol</td>\n",
       "      <td>alc</td>\n",
       "      <td>1007</td>\n",
       "    </tr>\n",
       "    <tr>\n",
       "      <th>5</th>\n",
       "      <td>Arous_All</td>\n",
       "      <td>placebo</td>\n",
       "      <td>alc</td>\n",
       "      <td>1027</td>\n",
       "    </tr>\n",
       "    <tr>\n",
       "      <th>6</th>\n",
       "      <td>Arous_All</td>\n",
       "      <td>cortisol</td>\n",
       "      <td>tool</td>\n",
       "      <td>1001</td>\n",
       "    </tr>\n",
       "    <tr>\n",
       "      <th>7</th>\n",
       "      <td>Arous_All</td>\n",
       "      <td>placebo</td>\n",
       "      <td>tool</td>\n",
       "      <td>1023</td>\n",
       "    </tr>\n",
       "  </tbody>\n",
       "</table>\n",
       "</div>"
      ],
      "text/plain": [
       "         Behavior      Pill   Run  N_trials\n",
       "0  RecogAcc_coded  cortisol   alc      1016\n",
       "1  RecogAcc_coded   placebo   alc      1031\n",
       "2  RecogAcc_coded  cortisol  tool      1034\n",
       "3  RecogAcc_coded   placebo  tool      1031\n",
       "4       Arous_All  cortisol   alc      1007\n",
       "5       Arous_All   placebo   alc      1027\n",
       "6       Arous_All  cortisol  tool      1001\n",
       "7       Arous_All   placebo  tool      1023"
      ]
     },
     "execution_count": 33,
     "metadata": {},
     "output_type": "execute_result"
    }
   ],
   "source": [
    "pd.DataFrame({'Behavior':pheno_dic,'Pill':pill_dic,'Run':stim_dic,'N_trials':n_ls})"
   ]
  },
  {
   "cell_type": "code",
   "execution_count": null,
   "id": "5e04d2ba",
   "metadata": {},
   "outputs": [],
   "source": []
  }
 ],
 "metadata": {
  "kernelspec": {
   "display_name": "Python 3 (ipykernel)",
   "language": "python",
   "name": "python3"
  },
  "language_info": {
   "codemirror_mode": {
    "name": "ipython",
    "version": 3
   },
   "file_extension": ".py",
   "mimetype": "text/x-python",
   "name": "python",
   "nbconvert_exporter": "python",
   "pygments_lexer": "ipython3",
   "version": "3.12.4"
  }
 },
 "nbformat": 4,
 "nbformat_minor": 5
}
