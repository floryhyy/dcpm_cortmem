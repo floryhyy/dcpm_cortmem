{
 "cells": [
  {
   "cell_type": "markdown",
   "id": "2e0c5001",
   "metadata": {},
   "source": [
    "# Notes\n",
    "- 9010 rated all arousal as 1\n",
    "- 9028 rated all arousal as 2 during cortisol runs\n",
    "- 9029's placebo run's memory is missing; experimenter error - they were shown the wrong stimuli at encoding, so their memory wasn't actually tested at retrieval\n",
    "\n",
    "exlude 9029 for memory analysis\n",
    "check 9010 and 9028 for arousal related analysis"
   ]
  },
  {
   "cell_type": "code",
   "execution_count": 1,
   "id": "fddf6180",
   "metadata": {},
   "outputs": [],
   "source": [
    "import scipy.io\n",
    "import pandas as pd\n",
    "import numpy as np"
   ]
  },
  {
   "cell_type": "markdown",
   "id": "81b2c19e",
   "metadata": {},
   "source": [
    "# id by trial index"
   ]
  },
  {
   "cell_type": "code",
   "execution_count": 2,
   "id": "617d65be",
   "metadata": {},
   "outputs": [
    {
     "name": "stdout",
     "output_type": "stream",
     "text": [
      "26\n"
     ]
    }
   ],
   "source": [
    "folder=\"../results/dynamic_connectivity/per_subj/\";            \n",
    "\n",
    "sub_ls=[\"9001\",\"9002\",\"9003\",\"9004\",\"9005\",\"9006\",\"9007\",\"9008\",\"9010\",\"9011\",\"9013\",\"9016\",\"9018\",\"9021\",\"9022\",\"9027\",\"9028\",\"9030\",\"9031\",\"9033\",\"9036\",\"9037\" ,\"9038\",\"9039\",\"9040\",\"9041\"]\n",
    "print(len(sub_ls))\n",
    "cond_ls=['cortisol','placebo']\n",
    "stim_ls=['alc','tool']\n",
    "\n",
    "#print(len(sub_ls))\n",
    "\n",
    "behavior_df=pd.read_csv('../data/behavior/mem_allsub_alltrial_pill.csv')\n",
    "behavior_df['RecogAcc_coded']=behavior_df['RecogAcc'].apply(lambda x:0 if x==4 else x)\n",
    "pheno='RecogAcc_coded' # need to update"
   ]
  },
  {
   "cell_type": "code",
   "execution_count": 3,
   "id": "1baa3cc1",
   "metadata": {},
   "outputs": [
    {
     "name": "stdout",
     "output_type": "stream",
     "text": [
      "26\n",
      "(1016, 377, 377)\n",
      "(1016,)\n",
      "(1016,)\n",
      "(1034, 377, 377)\n",
      "(1034,)\n",
      "(1034,)\n",
      "(1031, 377, 377)\n",
      "(1031,)\n",
      "(1031,)\n",
      "(1031, 377, 377)\n",
      "(1031,)\n",
      "(1031,)\n"
     ]
    }
   ],
   "source": [
    "sub_ls=[\"9001\",\"9002\",\"9003\",\"9004\",\"9005\",\"9006\",\"9007\",\"9008\",\"9010\",\"9011\",\"9013\",\"9016\",\"9018\",\"9021\",\"9022\",\"9027\",\"9028\",\"9030\",\"9031\",\"9033\",\"9036\",\"9037\" ,\"9038\",\"9039\",\"9040\",\"9041\"]\n",
    "sub_ls_len=len(sub_ls)\n",
    "print(sub_ls_len)\n",
    "for cond in cond_ls:\n",
    "    if cond==\"placebo\":\n",
    "        pill=\"Placebo\"\n",
    "    else:\n",
    "        pill=\"Cortisol\"       \n",
    "    for stim in stim_ls:\n",
    "        X=np.array([])\n",
    "        y=np.array([])\n",
    "        id_ls=np.array([])\n",
    "        for sub in sub_ls:\n",
    "            #read in whole conn matrix for subj\n",
    "            current_conn=scipy.io.loadmat(folder+sub+'_'+cond+'_'+stim+'_dynamic_connectome.mat')['data']\n",
    "            #select behavior data\n",
    "            behavior=behavior_df[(behavior_df['Subject']==int(sub))&(behavior_df['Pill']==pill)&(behavior_df['Stim']==stim)&(~behavior_df[pheno].isna())][[pheno,'Enc_Trial']]\n",
    "            behavior=behavior.sort_values('Enc_Trial').reset_index(drop=True)\n",
    "            conn_len=np.shape(current_conn)[0]\n",
    "            \n",
    "            behavior['index']=behavior['Enc_Trial'].apply(lambda x:x-1)\n",
    "            # if the behavior data is longer than scan data, shorten behavior list     \n",
    "            if (behavior.shape[0]>conn_len):\n",
    "                behavior=behavior.loc[:conn_len-1]\n",
    "                current_X=current_conn    \n",
    "            # if the scan data is longer than behavior data, only select trials with behavior data\n",
    "            else:\n",
    "                current_X=current_conn[behavior['index'].values,:,:]\n",
    "                        \n",
    "            current_y=behavior[pheno].values\n",
    "            current_id=behavior['Enc_Trial'].values\n",
    "\n",
    "            #concatnate data across subj\n",
    "            if X.shape[0]<1:\n",
    "                X=np.array(current_X)\n",
    "                y=np.array(current_y)\n",
    "                id_ls=np.array(current_id)\n",
    "            else:\n",
    "                X=np.concatenate((X,current_X))\n",
    "                y=np.concatenate((y,current_y))\n",
    "                id_ls=np.concatenate((id_ls,current_id))\n",
    "            if (current_X==(-np.inf)).sum()>0:\n",
    "                print(sub,cond,stim)\n",
    "        print(np.shape(X))\n",
    "        print(np.shape(y))\n",
    "        print(np.shape(id_ls))\n",
    "        output_folder=\"../results/dynamic_connectivity/\";            \n",
    "        file_path = output_folder+\"n\"+str(sub_ls_len)+'_'+pheno+'_'+cond+\"_\"+stim+\"_trialID_dynamic_connectome.mat\"\n",
    "        scipy.io.savemat(file_path, {'X': X,'y':y,'id':id_ls})"
   ]
  }
 ],
 "metadata": {
  "kernelspec": {
   "display_name": "Python 3 (ipykernel)",
   "language": "python",
   "name": "python3"
  },
  "language_info": {
   "codemirror_mode": {
    "name": "ipython",
    "version": 3
   },
   "file_extension": ".py",
   "mimetype": "text/x-python",
   "name": "python",
   "nbconvert_exporter": "python",
   "pygments_lexer": "ipython3",
   "version": "3.12.4"
  }
 },
 "nbformat": 4,
 "nbformat_minor": 5
}
