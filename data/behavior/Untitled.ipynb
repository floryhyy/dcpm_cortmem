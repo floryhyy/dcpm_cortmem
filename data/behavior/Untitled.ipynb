{
 "cells": [
  {
   "cell_type": "code",
   "execution_count": 1,
   "id": "10983121-cc08-42e4-9abb-07fbfa4e2b2e",
   "metadata": {},
   "outputs": [],
   "source": [
    "import pandas as pd"
   ]
  },
  {
   "cell_type": "code",
   "execution_count": 2,
   "id": "5b40279b-fb3f-489e-b6f5-11a348dcff69",
   "metadata": {},
   "outputs": [],
   "source": [
    "df=pd.read_csv('mem_allsub_alltrial_pill_fulldata.csv')"
   ]
  },
  {
   "cell_type": "code",
   "execution_count": 4,
   "id": "643e32a8-36ef-4a32-9f49-5a4b578f0bb6",
   "metadata": {},
   "outputs": [],
   "source": [
    "df_use = df[['Subject', 'Week', 'Stim','Pill', 'StimOrd',\n",
    "       'Enc_Trial', 'StimOn', 'RecogAcc','Arous_All']]"
   ]
  },
  {
   "cell_type": "code",
   "execution_count": 5,
   "id": "76cc6f87-08e1-414f-9e8d-c875de05b263",
   "metadata": {},
   "outputs": [],
   "source": [
    "df_use.to_csv('mem_allsub_alltrial_pill.csv',index=False)"
   ]
  },
  {
   "cell_type": "code",
   "execution_count": null,
   "id": "a809e479-ed03-4b00-b004-10d3a756689c",
   "metadata": {},
   "outputs": [],
   "source": []
  }
 ],
 "metadata": {
  "kernelspec": {
   "display_name": "Python 3 (ipykernel)",
   "language": "python",
   "name": "python3"
  },
  "language_info": {
   "codemirror_mode": {
    "name": "ipython",
    "version": 3
   },
   "file_extension": ".py",
   "mimetype": "text/x-python",
   "name": "python",
   "nbconvert_exporter": "python",
   "pygments_lexer": "ipython3",
   "version": "3.12.4"
  }
 },
 "nbformat": 4,
 "nbformat_minor": 5
}
