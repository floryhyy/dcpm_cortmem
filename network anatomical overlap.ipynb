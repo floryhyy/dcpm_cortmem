{
 "cells": [
  {
   "cell_type": "markdown",
   "id": "36069e16-8d4b-48f3-a9a5-f287c43b7134",
   "metadata": {},
   "source": [
    "# Notes:\n",
    "- Code for analysis under section \"Cortisol changes which edges are involved in predictive networks \"; result in Table S2-4\n",
    "- generate data for plot Figure3 and Figure S3"
   ]
  },
  {
   "cell_type": "code",
   "execution_count": 1,
   "id": "7d2b32ab",
   "metadata": {},
   "outputs": [],
   "source": [
    "import pandas as pd\n",
    "import numpy as np\n",
    "from scipy.stats import chi2_contingency\n",
    "import seaborn as sns\n",
    "import matplotlib.pyplot as plt\n",
    "from itertools import combinations\n",
    "total_edges=70876\n"
   ]
  },
  {
   "cell_type": "markdown",
   "id": "4130645b-e41d-492e-9b7c-a55b96bf8eb2",
   "metadata": {},
   "source": [
    "# Functions"
   ]
  },
  {
   "cell_type": "code",
   "execution_count": 2,
   "id": "ae53087d",
   "metadata": {},
   "outputs": [],
   "source": [
    "from scipy.special import comb\n",
    "\n",
    "def hypergeom_pmf(N, A, n, x):\n",
    "    \n",
    "    '''\n",
    "    Probability Mass Function for Hypergeometric Distribution\n",
    "    :param N: population size\n",
    "    :param A: total number of desired items in N\n",
    "    :param n: number of draws made from N\n",
    "    :param x: number of desired items in our draw of n items\n",
    "    :returns: PMF computed at x\n",
    "    '''\n",
    "    Achoosex = comb(A,x,exact=True)\n",
    "    NAchoosenx = comb(N-A, n-x,exact=True)\n",
    "    Nchoosen = comb(N,n,exact=True)\n",
    "    \n",
    "    return (Achoosex)*NAchoosenx/Nchoosen\n",
    "\n",
    "\n",
    "def hypergeom_cdf(N, A, n, t, min_value=None):\n",
    "    \n",
    "    '''\n",
    "    Cumulative Density Funtion for Hypergeometric Distribution\n",
    "    :param N: population size\n",
    "    :param A: total number of desired items in N\n",
    "    :param n: number of draws made from N\n",
    "    :param t: number of desired items in our draw of n items up to t\n",
    "    :returns: CDF computed up to t\n",
    "    '''\n",
    "    if min_value:\n",
    "        return np.sum([hypergeom_pmf(N, A, n, x) for x in range(min_value, t+1)])\n",
    "    \n",
    "    return np.sum([hypergeom_pmf(N, A, n, x) for x in range(t+1)])\n"
   ]
  },
  {
   "cell_type": "code",
   "execution_count": 3,
   "id": "572af7d3-5664-4a29-91e6-6f65762e3c14",
   "metadata": {},
   "outputs": [],
   "source": [
    "\n",
    "from scipy.stats import hypergeom\n",
    "\n",
    "def fast_hypergeom_pmf(N, A, n, x):\n",
    "    return hypergeom.pmf(x, N, A, n)\n",
    "\n",
    "def fast_hypergeom_cdf(N, A, n, t, min_value=None):\n",
    "    if min_value is not None:\n",
    "        return hypergeom.cdf(t, N, A, n) - hypergeom.cdf(min_value - 1, N, A, n)\n",
    "    return hypergeom.cdf(t, N, A, n)\n",
    "\n"
   ]
  },
  {
   "cell_type": "code",
   "execution_count": 4,
   "id": "6b01cd9a",
   "metadata": {},
   "outputs": [],
   "source": [
    "def get_overlap(n1,n2,network_ls):\n",
    "    overlap=np.sum(network_ls[n1].astype(int) &network_ls[n2].astype(int))/2\n",
    "    n1_edges=np.sum(network_ls[n1])/2\n",
    "    n2_edges=np.sum(network_ls[n2])/2\n",
    "    return overlap,n1_edges,n2_edges"
   ]
  },
  {
   "cell_type": "code",
   "execution_count": 5,
   "id": "d71c01bb",
   "metadata": {},
   "outputs": [],
   "source": [
    "def get_overlap_across_constr(n1,n2,network_ls1,network_ls2):\n",
    "    overlap=np.sum(network_ls1[n1].astype(int) &network_ls2[n2].astype(int))/2\n",
    "    n1_edges=np.sum(network_ls1[n1])/2\n",
    "    n2_edges=np.sum(network_ls2[n2])/2\n",
    "    return overlap,n1_edges,n2_edges"
   ]
  },
  {
   "cell_type": "code",
   "execution_count": 6,
   "id": "659a6f61-cd62-4ee4-bba2-d21c2c6c703d",
   "metadata": {},
   "outputs": [],
   "source": [
    "def load_network_data(pheno, folder, p='0.01', id_by='_byTrial'):\n",
    "   \"\"\"\n",
    "   Load network data from files based on phenotype.\n",
    "   \n",
    "   Parameters\n",
    "   ----------\n",
    "   pheno : str\n",
    "       Phenotype name (e.g., 'RecogAcc_coded')\n",
    "   folder : str\n",
    "       Path to folder containing network files\n",
    "   p : str, optional\n",
    "       P-value threshold, default='0.01'  \n",
    "   id_by : str, optional\n",
    "       Identifier suffix, default='_byTrial'\n",
    "   \n",
    "   Returns\n",
    "   -------\n",
    "   dict\n",
    "       Dictionary containing network data for each condition\n",
    "   \"\"\"\n",
    "   cond_ls = ['cortisol', 'placebo']\n",
    "   stim_ls = ['alc', 'tool'] \n",
    "   direction_ls = ['pos', 'neg']\n",
    "   network_ls = {}\n",
    "\n",
    "   for cond in cond_ls:\n",
    "       for stim in stim_ls:\n",
    "           for direction in direction_ls:\n",
    "               filename = f\"{folder}n26_{pheno}{id_by}_{cond}_{stim}_htBPfiltered_p{p}_{direction}.txt\"\n",
    "               data = np.loadtxt(filename, delimiter=',')\n",
    "               network_ls[f\"{cond}_{stim}_{direction}{id_by}\"] = data\n",
    "               \n",
    "   return network_ls"
   ]
  },
  {
   "cell_type": "code",
   "execution_count": 7,
   "id": "b7a90a5d-c5d7-4e89-94da-9345e4ca7f4c",
   "metadata": {},
   "outputs": [],
   "source": [
    "def calculate_network_overlaps(network_ls, total_edges, pheno):\n",
    "    \"\"\"\n",
    "    Calculate overlap statistics between memory predictive networks.\n",
    "    \n",
    "    Parameters:\n",
    "    -----------\n",
    "    network_ls : dict\n",
    "        Dictionary containing network data for different conditions\n",
    "        Expected format: {'condition_name': network_data, ...}\n",
    "    total_edges : int\n",
    "        Total number of edges in the complete network\n",
    "        \n",
    "    Returns:\n",
    "    --------\n",
    "    tuple\n",
    "        Contains three 8x8 matrices (numpy arrays):\n",
    "        - overlap_edges: Number of overlapping edges between each pair of networks\n",
    "        - overlap_percent: Percentage of overlap relative to total edges in both networks\n",
    "        - overlap_pvalues: P-values from hypergeometric test for significance of overlap\n",
    "    \"\"\"\n",
    "    n_networks = len(network_ls)\n",
    "    network_names = list(network_ls.keys())\n",
    "    \n",
    "    # Initialize matrices to store results\n",
    "    overlap_edges = np.zeros([n_networks, n_networks])\n",
    "    overlap_percent = np.zeros([n_networks, n_networks])\n",
    "    overlap_pvalues = np.zeros([n_networks, n_networks])\n",
    "    \n",
    "    # Calculate overlaps for each pair of networks\n",
    "    for i, n1 in enumerate(network_names):\n",
    "        for j, n2 in enumerate(network_names[i+1:], i+1):\n",
    "            # Calculate overlap statistics\n",
    "            overlap, n1_edges, n2_edges = get_overlap(n1, n2, network_ls)\n",
    "            p_value = 1 - fast_hypergeom_cdf(total_edges, n1_edges, n2_edges, int(overlap))\n",
    "            overlap_percent_val = overlap / (n1_edges + n2_edges - overlap)\n",
    "            \n",
    "            # Store results in matrices (both directions due to symmetry)\n",
    "            overlap_edges[i, j] = overlap_edges[j, i] = overlap\n",
    "            overlap_percent[i, j] = overlap_percent[j, i] = overlap_percent_val\n",
    "            overlap_pvalues[i, j] = overlap_pvalues[j, i] = p_value if overlap > 0 else np.nan\n",
    "            \n",
    "            # Print results only for networks with same direction (pos/neg) and condition (alc/tool)\n",
    "            same_direction = ('pos' in n1 and 'pos' in n2) or ('neg' in n1 and 'neg' in n2)\n",
    "            same_condition = ('alc' in n1 and 'alc' in n2) or ('tool' in n1 and 'tool' in n2)\n",
    "            same_pill = ('cortisol' in n1 and 'cortisol' in n2) or ('placebo' in n1 and 'placebo' in n2)\n",
    "\n",
    "            if same_direction and (same_condition or same_pill):\n",
    "                print(f\"Network comparison: {pheno}_{n1.strip('_byTrial')} vs {pheno}_{n2.strip('_byTrial')}\")\n",
    "                print(f\"Number of edges: {n1_edges} vs {n2_edges}\")\n",
    "                print(f\"Overlap edges: {overlap}\")\n",
    "                print(f\"HCDF - p: {p_value:.3f}\\n\")\n",
    "    \n",
    "    return overlap_edges, overlap_percent, overlap_pvalues"
   ]
  },
  {
   "cell_type": "code",
   "execution_count": 8,
   "id": "ca005737-78af-43da-8e6b-4e308557a8d1",
   "metadata": {},
   "outputs": [],
   "source": [
    "def save_network_overlaps(network_ls1, network_ls2=None, pheno=\"\", output_folder=\"results/network_overlap/\"):\n",
    "    \"\"\"\n",
    "    Calculate and save network overlaps for networks with same direction and emotionality.\n",
    "    Can compare networks within a single list or between two different lists.\n",
    "    \n",
    "    Parameters\n",
    "    ----------\n",
    "    network_ls1 : dict\n",
    "        Dictionary containing first set of network data\n",
    "    network_ls2 : dict, optional\n",
    "        Dictionary containing second set of network data\n",
    "        If None, will compare networks within network_ls1\n",
    "        Default: None\n",
    "    pheno : str\n",
    "        Phenotype name used in output filenames\n",
    "    output_folder : str, optional\n",
    "        Base folder path for saving overlap files\n",
    "        Default: 'data/5s_onward/network_overlap/'\n",
    "        \n",
    "    Returns\n",
    "    -------\n",
    "    None\n",
    "        Saves overlap files to disk for matching network pairs\n",
    "    \"\"\"\n",
    "    # Create output subfolder\n",
    "    save_folder = f\"{output_folder}/\"\n",
    "    \n",
    "    if network_ls2 is None:\n",
    "        # Original behavior - compare within single list\n",
    "        network_pairs = list(combinations(network_ls1.keys(), 2))\n",
    "        \n",
    "        # Calculate and save overlap for matching pairs\n",
    "        for pair in network_pairs:\n",
    "            n1, n2 = pair[0], pair[1]\n",
    "            \n",
    "            # Check if networks have same direction and condition\n",
    "            same_direction = ('pos' in n1 and 'pos' in n2) or ('neg' in n1 and 'neg' in n2)\n",
    "            same_condition = ('cortisol' in n1 and 'cortisol' in n2) or ('placebo' in n1 and 'placebo' in n2)\n",
    "            \n",
    "            if same_direction and same_condition:\n",
    "                # Calculate overlap\n",
    "                overlap = network_ls1[n1].astype(int) & network_ls1[n2].astype(int)\n",
    "                overlap = overlap / 2\n",
    "                \n",
    "                # Create filename - remove '_byTrial' suffix\n",
    "                filename = (f\"{save_folder}{pheno}_{n1[:-8]}&{n2[:-8]}\"\n",
    "                          \"_overlap.txt\")\n",
    "                \n",
    "                # Save to file\n",
    "                np.savetxt(filename, overlap, delimiter=',')\n",
    "    \n",
    "    else:\n",
    "        # Compare between two different lists\n",
    "        for n1 in network_ls1.keys():\n",
    "            for n2 in network_ls2.keys():\n",
    "                # Check if networks have same direction and condition\n",
    "                same_direction = ('pos' in n1 and 'pos' in n2) or ('neg' in n1 and 'neg' in n2)\n",
    "                same_condition = ('cortisol' in n1 and 'cortisol' in n2) or ('placebo' in n1 and 'placebo' in n2)\n",
    "                \n",
    "                if same_direction and same_condition:\n",
    "                    # Calculate overlap\n",
    "                    overlap = network_ls1[n1].astype(int) & network_ls2[n2].astype(int)\n",
    "                    overlap = overlap / 2\n",
    "                    \n",
    "                    # Create filename with memory and arousal prefixes\n",
    "                    filename = (f\"{save_folder}memory_{n1[:-8]}&arousal_{n2[:-8]}\"\n",
    "                              \"_overlap.txt\")\n",
    "                    \n",
    "                    # Save to file\n",
    "                    np.savetxt(filename, overlap, delimiter=',')"
   ]
  },
  {
   "cell_type": "code",
   "execution_count": 9,
   "id": "88c7c3ad",
   "metadata": {},
   "outputs": [],
   "source": [
    "def chi_output(data):\n",
    "    stat, p, dof, expected = chi2_contingency(data)\n",
    "    alpha = 0.05\n",
    "\n",
    "    print(\"p value is \" + \"{:.3f}\".format(p))\n",
    "    print(\"stat \" + \"{:.3f}\".format(stat))\n",
    "    \"\"\" \n",
    "    # other outputs\n",
    "    print(\"expected:\",expected)\n",
    "    if p <= alpha:\n",
    "        print('Dependent (reject H0)')\n",
    "    else:\n",
    "        print('Independent (H0 holds true)')\n",
    "    \"\"\"\n",
    "            \n",
    "def chi_sq(n1,n2,n3,n4,network_ls,sep=False,pheno=\"memory\"):\n",
    "    print('Chi sq Test: \\n')\n",
    "    if len(network_ls)==1:\n",
    "        overlap1,n1_edges,n2_edges= get_overlap(n1,n2,network_ls[0])\n",
    "        overlap2, n3_edges,n4_edges=get_overlap(n3,n4,network_ls[0])\n",
    "        pheno1 = pheno\n",
    "        pheno2 = pheno\n",
    "    else:\n",
    "        pheno1 = 'memory'\n",
    "        pheno2 = 'arousal' \n",
    "        overlap1,n1_edges,n2_edges=get_overlap_across_constr(n1,n2,network_ls[0],network_ls[1])\n",
    "        overlap2, n3_edges,n4_edges=get_overlap_across_constr(n3,n4,network_ls[0],network_ls[1])\n",
    "\n",
    "    print(f\"Overlap1: {pheno1}_{n1.strip('_byTrial')} vs {pheno2}_{n2.strip('_byTrial')}\")\n",
    "    print(f\"Number of edges: {n1_edges} vs {n2_edges}, Overlap edges: {overlap1}\")\n",
    "\n",
    "    print(f\"Overlap2: {pheno1}_{n3.strip('_byTrial')} vs {pheno2}_{n4.strip('_byTrial')}\")\n",
    "    print(f\"Number of edges: {n3_edges} vs {n4_edges}, Overlap edges: {overlap2}\")\n",
    "\n",
    "\n",
    "    if (sep):\n",
    "        #defining the table\n",
    "        data = [[overlap1, overlap2], [ n1_edges-overlap1, n3_edges-overlap2]]\n",
    "        print('n: '+str(n1_edges+n3_edges))\n",
    "        chi_output(data)\n",
    "        \n",
    "        data = [[overlap1, overlap2], [ n2_edges-overlap1, n4_edges-overlap2]]\n",
    "        print('n: '+str(n2_edges+n4_edges))\n",
    "        chi_output(data)\n",
    "\n",
    "\n",
    "    else:\n",
    "        data = [[overlap1, overlap2], [ n1_edges+n2_edges-overlap1*2, n3_edges+n4_edges-overlap2*2]]\n",
    "        print('n: '+str(np.sum(data)))\n",
    "\n",
    "        chi_output(data)"
   ]
  },
  {
   "cell_type": "code",
   "execution_count": 10,
   "id": "be7a19cf",
   "metadata": {},
   "outputs": [],
   "source": [
    "folder=\"CPM code/result/network_edges/\"\n",
    "id_by='_byTrial'"
   ]
  },
  {
   "cell_type": "markdown",
   "id": "29637386",
   "metadata": {},
   "source": [
    "# Item memory networks overlap"
   ]
  },
  {
   "cell_type": "code",
   "execution_count": 11,
   "id": "6db84081-0f05-40f6-9243-ad4c439c18f4",
   "metadata": {},
   "outputs": [
    {
     "name": "stdout",
     "output_type": "stream",
     "text": [
      "Network comparison: memory_cortisol_alc_pos vs memory_cortisol_tool_pos\n",
      "Number of edges: 521.0 vs 582.0\n",
      "Overlap edges: 25.0\n",
      "HCDF - p: 0.000\n",
      "\n",
      "Network comparison: memory_cortisol_alc_pos vs memory_placebo_alc_pos\n",
      "Number of edges: 521.0 vs 192.0\n",
      "Overlap edges: 3.0\n",
      "HCDF - p: 0.054\n",
      "\n",
      "Network comparison: memory_cortisol_alc_neg vs memory_cortisol_tool_neg\n",
      "Number of edges: 111.0 vs 371.0\n",
      "Overlap edges: 1.0\n",
      "HCDF - p: 0.115\n",
      "\n",
      "Network comparison: memory_cortisol_alc_neg vs memory_placebo_alc_neg\n",
      "Number of edges: 111.0 vs 217.0\n",
      "Overlap edges: 1.0\n",
      "HCDF - p: 0.046\n",
      "\n",
      "Network comparison: memory_cortisol_tool_pos vs memory_placebo_tool_pos\n",
      "Number of edges: 582.0 vs 515.0\n",
      "Overlap edges: 20.0\n",
      "HCDF - p: 0.000\n",
      "\n",
      "Network comparison: memory_cortisol_tool_neg vs memory_placebo_tool_neg\n",
      "Number of edges: 371.0 vs 2423.0\n",
      "Overlap edges: 86.0\n",
      "HCDF - p: 0.000\n",
      "\n",
      "Network comparison: memory_placebo_alc_pos vs memory_placebo_tool_pos\n",
      "Number of edges: 192.0 vs 515.0\n",
      "Overlap edges: 9.0\n",
      "HCDF - p: 0.000\n",
      "\n",
      "Network comparison: memory_placebo_alc_neg vs memory_placebo_tool_neg\n",
      "Number of edges: 217.0 vs 2423.0\n",
      "Overlap edges: 62.0\n",
      "HCDF - p: 0.000\n",
      "\n"
     ]
    }
   ],
   "source": [
    "network_ls_recog=load_network_data(\"RecogAcc_coded\", folder)\n",
    "save_network_overlaps(network_ls_recog,pheno=\"memory\")\n",
    "edges_matrix, percent_matrix, pvalue_matrix = calculate_network_overlaps(network_ls_recog, total_edges,'memory')\n",
    "np.savetxt(\"results/network_overlap/memory_network_overlap_percent.txt\",percent_matrix,delimiter=',')"
   ]
  },
  {
   "cell_type": "code",
   "execution_count": 12,
   "id": "07147c84",
   "metadata": {},
   "outputs": [
    {
     "name": "stdout",
     "output_type": "stream",
     "text": [
      "Chi sq Test: \n",
      "\n",
      "Overlap1: memory_cortisol_alc_pos vs memory_cortisol_tool_pos\n",
      "Number of edges: 521.0 vs 582.0, Overlap edges: 25.0\n",
      "Overlap2: memory_placebo_alc_pos vs memory_placebo_tool_pos\n",
      "Number of edges: 192.0 vs 515.0, Overlap edges: 9.0\n",
      "n: 1776.0\n",
      "p value is 0.171\n",
      "stat 1.875\n"
     ]
    }
   ],
   "source": [
    "n1='cortisol_alc_pos_byTrial'\n",
    "n2='cortisol_tool_pos_byTrial'\n",
    "n3='placebo_alc_pos_byTrial'\n",
    "n4='placebo_tool_pos_byTrial'\n",
    "chi_sq(n1,n2,n3,n4,[network_ls_recog],pheno='memory')"
   ]
  },
  {
   "cell_type": "code",
   "execution_count": 13,
   "id": "6affb02a-1cd6-4d1f-abb0-75048859a822",
   "metadata": {},
   "outputs": [
    {
     "name": "stdout",
     "output_type": "stream",
     "text": [
      "Chi sq Test: \n",
      "\n",
      "Overlap1: memory_cortisol_alc_neg vs memory_cortisol_tool_neg\n",
      "Number of edges: 111.0 vs 371.0, Overlap edges: 1.0\n",
      "Overlap2: memory_placebo_alc_neg vs memory_placebo_tool_neg\n",
      "Number of edges: 217.0 vs 2423.0, Overlap edges: 62.0\n",
      "n: 3059.0\n",
      "p value is 0.003\n",
      "stat 8.642\n"
     ]
    }
   ],
   "source": [
    "n1='cortisol_alc_neg_byTrial'\n",
    "n2='cortisol_tool_neg_byTrial'\n",
    "n3='placebo_alc_neg_byTrial'\n",
    "n4='placebo_tool_neg_byTrial'\n",
    "chi_sq(n1,n2,n3,n4,[network_ls_recog],pheno='memory')"
   ]
  },
  {
   "cell_type": "markdown",
   "id": "34395408",
   "metadata": {},
   "source": [
    "# Arousal overlap\n"
   ]
  },
  {
   "cell_type": "code",
   "execution_count": 14,
   "id": "c9908308-64a1-469f-b447-dea9e21316f3",
   "metadata": {},
   "outputs": [
    {
     "name": "stdout",
     "output_type": "stream",
     "text": [
      "Network comparison: arousal_cortisol_alc_pos vs arousal_cortisol_tool_pos\n",
      "Number of edges: 3873.0 vs 2180.0\n",
      "Overlap edges: 702.0\n",
      "HCDF - p: 0.000\n",
      "\n",
      "Network comparison: arousal_cortisol_alc_pos vs arousal_placebo_alc_pos\n",
      "Number of edges: 3873.0 vs 1279.0\n",
      "Overlap edges: 162.0\n",
      "HCDF - p: 0.000\n",
      "\n",
      "Network comparison: arousal_cortisol_alc_neg vs arousal_cortisol_tool_neg\n",
      "Number of edges: 796.0 vs 3099.0\n",
      "Overlap edges: 350.0\n",
      "HCDF - p: 0.000\n",
      "\n",
      "Network comparison: arousal_cortisol_alc_neg vs arousal_placebo_alc_neg\n",
      "Number of edges: 796.0 vs 537.0\n",
      "Overlap edges: 19.0\n",
      "HCDF - p: 0.000\n",
      "\n",
      "Network comparison: arousal_cortisol_tool_pos vs arousal_placebo_tool_pos\n",
      "Number of edges: 2180.0 vs 854.0\n",
      "Overlap edges: 116.0\n",
      "HCDF - p: 0.000\n",
      "\n",
      "Network comparison: arousal_cortisol_tool_neg vs arousal_placebo_tool_neg\n",
      "Number of edges: 3099.0 vs 2154.0\n",
      "Overlap edges: 447.0\n",
      "HCDF - p: 0.000\n",
      "\n",
      "Network comparison: arousal_placebo_alc_pos vs arousal_placebo_tool_pos\n",
      "Number of edges: 1279.0 vs 854.0\n",
      "Overlap edges: 123.0\n",
      "HCDF - p: 0.000\n",
      "\n",
      "Network comparison: arousal_placebo_alc_neg vs arousal_placebo_tool_neg\n",
      "Number of edges: 537.0 vs 2154.0\n",
      "Overlap edges: 107.0\n",
      "HCDF - p: 0.000\n",
      "\n"
     ]
    }
   ],
   "source": [
    "network_ls_arous=load_network_data(\"Arous_All\", folder)\n",
    "save_network_overlaps(network_ls_arous,pheno=\"arousal\")\n",
    "edges_matrix, percent_matrix, pvalue_matrix = calculate_network_overlaps(network_ls_arous, total_edges,'arousal')\n",
    "np.savetxt(\"results/network_overlap/arousal_network_overlap_percent.txt\",percent_matrix,delimiter=',')"
   ]
  },
  {
   "cell_type": "code",
   "execution_count": 15,
   "id": "3194643d-18f5-4350-8ec0-a7c436626a06",
   "metadata": {},
   "outputs": [
    {
     "name": "stdout",
     "output_type": "stream",
     "text": [
      "Chi sq Test: \n",
      "\n",
      "Overlap1: arousal_cortisol_alc_pos vs arousal_cortisol_tool_pos\n",
      "Number of edges: 3873.0 vs 2180.0, Overlap edges: 702.0\n",
      "Overlap2: arousal_placebo_alc_pos vs arousal_placebo_tool_pos\n",
      "Number of edges: 1279.0 vs 854.0, Overlap edges: 123.0\n",
      "n: 7361.0\n",
      "p value is 0.000\n",
      "stat 71.236\n"
     ]
    }
   ],
   "source": [
    "n1='cortisol_alc_pos_byTrial'\n",
    "n2='cortisol_tool_pos_byTrial'\n",
    "n3='placebo_alc_pos_byTrial'\n",
    "n4='placebo_tool_pos_byTrial'\n",
    "chi_sq(n1,n2,n3,n4,[network_ls_arous],pheno='arousal')"
   ]
  },
  {
   "cell_type": "code",
   "execution_count": 16,
   "id": "3ba8ed4d-2de9-4bb7-bbf7-8f21364a24ec",
   "metadata": {},
   "outputs": [
    {
     "name": "stdout",
     "output_type": "stream",
     "text": [
      "Chi sq Test: \n",
      "\n",
      "Overlap1: arousal_cortisol_alc_neg vs arousal_cortisol_tool_neg\n",
      "Number of edges: 796.0 vs 3099.0, Overlap edges: 350.0\n",
      "Overlap2: arousal_placebo_alc_neg vs arousal_placebo_tool_neg\n",
      "Number of edges: 537.0 vs 2154.0, Overlap edges: 107.0\n",
      "n: 6129.0\n",
      "p value is 0.000\n",
      "stat 70.340\n"
     ]
    }
   ],
   "source": [
    "n1='cortisol_alc_neg_byTrial'\n",
    "n2='cortisol_tool_neg_byTrial'\n",
    "n3='placebo_alc_neg_byTrial'\n",
    "n4='placebo_tool_neg_byTrial'\n",
    "chi_sq(n1,n2,n3,n4,[network_ls_arous],pheno='arousal')"
   ]
  },
  {
   "cell_type": "markdown",
   "id": "c149f843",
   "metadata": {},
   "source": [
    "# Arousal and Item_mem overlap"
   ]
  },
  {
   "cell_type": "code",
   "execution_count": 17,
   "id": "03ecc3b8-14fe-439e-abe5-b8d7f8936229",
   "metadata": {},
   "outputs": [],
   "source": [
    "save_network_overlaps(network_ls_recog,network_ls_arous)"
   ]
  },
  {
   "cell_type": "code",
   "execution_count": 18,
   "id": "33f0415d",
   "metadata": {},
   "outputs": [
    {
     "name": "stdout",
     "output_type": "stream",
     "text": [
      "Network comparison: memory_cortisol_alc_pos vs arousal_cortisol_alc_pos\n",
      "Number of edges: 521.0 vs 3873.0\n",
      "Overlap edges: 97.0\n",
      "HCDF - p: 0.000\n",
      "\n",
      "Network comparison: memory_cortisol_alc_pos vs arousal_cortisol_tool_pos\n",
      "Number of edges: 521.0 vs 2180.0\n",
      "Overlap edges: 62.0\n",
      "HCDF - p: 0.000\n",
      "\n",
      "Network comparison: memory_cortisol_alc_neg vs arousal_cortisol_alc_neg\n",
      "Number of edges: 111.0 vs 796.0\n",
      "Overlap edges: 6.0\n",
      "HCDF - p: 0.000\n",
      "\n",
      "Network comparison: memory_cortisol_alc_neg vs arousal_cortisol_tool_neg\n",
      "Number of edges: 111.0 vs 3099.0\n",
      "Overlap edges: 4.0\n",
      "HCDF - p: 0.537\n",
      "\n",
      "Network comparison: memory_cortisol_tool_pos vs arousal_cortisol_alc_pos\n",
      "Number of edges: 582.0 vs 3873.0\n",
      "Overlap edges: 108.0\n",
      "HCDF - p: 0.000\n",
      "\n",
      "Network comparison: memory_cortisol_tool_pos vs arousal_cortisol_tool_pos\n",
      "Number of edges: 582.0 vs 2180.0\n",
      "Overlap edges: 86.0\n",
      "HCDF - p: 0.000\n",
      "\n",
      "Network comparison: memory_cortisol_tool_neg vs arousal_cortisol_alc_neg\n",
      "Number of edges: 371.0 vs 796.0\n",
      "Overlap edges: 26.0\n",
      "HCDF - p: 0.000\n",
      "\n",
      "Network comparison: memory_cortisol_tool_neg vs arousal_cortisol_tool_neg\n",
      "Number of edges: 371.0 vs 3099.0\n",
      "Overlap edges: 80.0\n",
      "HCDF - p: 0.000\n",
      "\n",
      "Network comparison: memory_placebo_alc_pos vs arousal_placebo_alc_pos\n",
      "Number of edges: 192.0 vs 1279.0\n",
      "Overlap edges: 2.0\n",
      "HCDF - p: 0.675\n",
      "\n",
      "Network comparison: memory_placebo_alc_pos vs arousal_placebo_tool_pos\n",
      "Number of edges: 192.0 vs 854.0\n",
      "Overlap edges: 7.0\n",
      "HCDF - p: 0.002\n",
      "\n",
      "Network comparison: memory_placebo_alc_neg vs arousal_placebo_alc_neg\n",
      "Number of edges: 217.0 vs 537.0\n",
      "Overlap edges: 4.0\n",
      "HCDF - p: 0.025\n",
      "\n",
      "Network comparison: memory_placebo_alc_neg vs arousal_placebo_tool_neg\n",
      "Number of edges: 217.0 vs 2154.0\n",
      "Overlap edges: 33.0\n",
      "HCDF - p: 0.000\n",
      "\n",
      "Network comparison: memory_placebo_tool_pos vs arousal_placebo_alc_pos\n",
      "Number of edges: 515.0 vs 1279.0\n",
      "Overlap edges: 3.0\n",
      "HCDF - p: 0.984\n",
      "\n",
      "Network comparison: memory_placebo_tool_pos vs arousal_placebo_tool_pos\n",
      "Number of edges: 515.0 vs 854.0\n",
      "Overlap edges: 13.0\n",
      "HCDF - p: 0.004\n",
      "\n",
      "Network comparison: memory_placebo_tool_neg vs arousal_placebo_alc_neg\n",
      "Number of edges: 2423.0 vs 537.0\n",
      "Overlap edges: 17.0\n",
      "HCDF - p: 0.567\n",
      "\n",
      "Network comparison: memory_placebo_tool_neg vs arousal_placebo_tool_neg\n",
      "Number of edges: 2423.0 vs 2154.0\n",
      "Overlap edges: 212.0\n",
      "HCDF - p: 0.000\n",
      "\n"
     ]
    }
   ],
   "source": [
    "total_edges=70876\n",
    "overlap_e = np.zeros([8, 8])\n",
    "overlap_p = np.zeros([8, 8])\n",
    "overlap_e_percent=np.zeros([8, 8])\n",
    "for n1 in network_ls_recog:\n",
    "    for n2 in network_ls_arous:\n",
    "        n1_index=list(network_ls_recog.keys()).index(n1)\n",
    "        n2_index=list(network_ls_arous.keys()).index(n2)\n",
    "        \n",
    "        overlap,n1_edges,n2_edges= get_overlap_across_constr(n1,n2,network_ls_recog,network_ls_arous)\n",
    "        \n",
    "        p=1-fast_hypergeom_cdf(total_edges,n1_edges,n2_edges,int(overlap))\n",
    "        overlap_e[n1_index,n2_index]=overlap\n",
    "        overlap_e_percent[n1_index,n2_index]=overlap/(n1_edges+n2_edges-overlap)\n",
    "\n",
    "        \n",
    "        if overlap==0:\n",
    "            overlap_p[n1_index,n2_index]=np.nan\n",
    "        else:\n",
    "            overlap_p[n1_index,n2_index]=p\n",
    "        same_direction = ('pos' in n1 and 'pos' in n2) or ('neg' in n1 and 'neg' in n2)\n",
    "        same_condition = ('cortisol' in n1 and 'cortisol' in n2) or ('placebo' in n1 and 'placebo' in n2)\n",
    "\n",
    "        if same_direction and same_condition:\n",
    "            print(f\"Network comparison: memory_{n1.strip('_byTrial')} vs arousal_{n2.strip('_byTrial')}\")\n",
    "            print(f\"Number of edges: {n1_edges} vs {n2_edges}\")\n",
    "            print(f\"Overlap edges: {overlap}\")\n",
    "            print(f\"HCDF - p: {p:.3f}\\n\")\n"
   ]
  },
  {
   "cell_type": "code",
   "execution_count": 19,
   "id": "22996f39-2011-4031-8f66-1482eba96335",
   "metadata": {},
   "outputs": [],
   "source": [
    "np.savetxt(\"results/network_overlap/memory&arousal_network_overlap_percent.txt\",overlap_e_percent,delimiter=',')"
   ]
  },
  {
   "cell_type": "code",
   "execution_count": 20,
   "id": "7110feab",
   "metadata": {},
   "outputs": [
    {
     "name": "stdout",
     "output_type": "stream",
     "text": [
      "Chi sq Test: \n",
      "\n",
      "Overlap1: memory_cortisol_alc_neg vs arousal_cortisol_alc_neg\n",
      "Number of edges: 111.0 vs 796.0, Overlap edges: 6.0\n",
      "Overlap2: memory_placebo_alc_neg vs arousal_placebo_alc_neg\n",
      "Number of edges: 217.0 vs 537.0, Overlap edges: 4.0\n",
      "n: 1651.0\n",
      "p value is 0.978\n",
      "stat 0.001\n"
     ]
    }
   ],
   "source": [
    "n1='cortisol_alc_neg_byTrial' # mem\n",
    "n2='cortisol_alc_neg_byTrial' # arous\n",
    "n3='placebo_alc_neg_byTrial'\n",
    "n4='placebo_alc_neg_byTrial'\n",
    "chi_sq(n1,n2,n3,n4,[network_ls_recog,network_ls_arous])"
   ]
  },
  {
   "cell_type": "code",
   "execution_count": 21,
   "id": "baa48797",
   "metadata": {},
   "outputs": [
    {
     "name": "stdout",
     "output_type": "stream",
     "text": [
      "Chi sq Test: \n",
      "\n",
      "Overlap1: memory_cortisol_alc_neg vs arousal_cortisol_alc_neg\n",
      "Number of edges: 111.0 vs 796.0, Overlap edges: 6.0\n",
      "Overlap2: memory_placebo_alc_neg vs arousal_placebo_alc_neg\n",
      "Number of edges: 217.0 vs 537.0, Overlap edges: 4.0\n",
      "n: 1651.0\n",
      "p value is 0.978\n",
      "stat 0.001\n"
     ]
    }
   ],
   "source": [
    "n1='cortisol_alc_neg_byTrial' # mem\n",
    "n2='cortisol_alc_neg_byTrial' # arous\n",
    "n3='placebo_alc_neg_byTrial'\n",
    "n4='placebo_alc_neg_byTrial'\n",
    "chi_sq(n1,n2,n3,n4,[network_ls_recog,network_ls_arous])"
   ]
  },
  {
   "cell_type": "code",
   "execution_count": 22,
   "id": "96dc1a62",
   "metadata": {},
   "outputs": [
    {
     "name": "stdout",
     "output_type": "stream",
     "text": [
      "Chi sq Test: \n",
      "\n",
      "Overlap1: memory_cortisol_tool_pos vs arousal_cortisol_tool_pos\n",
      "Number of edges: 582.0 vs 2180.0, Overlap edges: 86.0\n",
      "Overlap2: memory_placebo_tool_pos vs arousal_placebo_tool_pos\n",
      "Number of edges: 515.0 vs 854.0, Overlap edges: 13.0\n",
      "n: 4032.0\n",
      "p value is 0.000\n",
      "stat 18.178\n"
     ]
    }
   ],
   "source": [
    "n1='cortisol_tool_pos_byTrial' # mem\n",
    "n2='cortisol_tool_pos_byTrial' # aours\n",
    "n3='placebo_tool_pos_byTrial'\n",
    "n4='placebo_tool_pos_byTrial'\n",
    "chi_sq(n1,n2,n3,n4,[network_ls_recog,network_ls_arous])"
   ]
  },
  {
   "cell_type": "code",
   "execution_count": 23,
   "id": "5c80d1b5",
   "metadata": {},
   "outputs": [
    {
     "name": "stdout",
     "output_type": "stream",
     "text": [
      "Chi sq Test: \n",
      "\n",
      "Overlap1: memory_cortisol_tool_neg vs arousal_cortisol_tool_neg\n",
      "Number of edges: 371.0 vs 3099.0, Overlap edges: 80.0\n",
      "Overlap2: memory_placebo_tool_neg vs arousal_placebo_tool_neg\n",
      "Number of edges: 2423.0 vs 2154.0, Overlap edges: 212.0\n",
      "n: 7755.0\n",
      "p value is 0.000\n",
      "stat 32.145\n"
     ]
    }
   ],
   "source": [
    "n1='cortisol_tool_neg_byTrial'#mem\n",
    "n2='cortisol_tool_neg_byTrial'#arous\n",
    "n3='placebo_tool_neg_byTrial'\n",
    "n4='placebo_tool_neg_byTrial'\n",
    "chi_sq(n1,n2,n3,n4,[network_ls_recog,network_ls_arous])"
   ]
  },
  {
   "cell_type": "code",
   "execution_count": 24,
   "id": "1af3a996",
   "metadata": {},
   "outputs": [
    {
     "name": "stdout",
     "output_type": "stream",
     "text": [
      "Chi sq Test: \n",
      "\n",
      "Overlap1: memory_cortisol_alc_pos vs arousal_cortisol_tool_pos\n",
      "Number of edges: 521.0 vs 2180.0, Overlap edges: 62.0\n",
      "Overlap2: memory_placebo_alc_pos vs arousal_placebo_tool_pos\n",
      "Number of edges: 192.0 vs 854.0, Overlap edges: 7.0\n",
      "n: 3678.0\n",
      "p value is 0.001\n",
      "stat 10.479\n"
     ]
    }
   ],
   "source": [
    "n1='cortisol_alc_pos_byTrial' #mem\n",
    "n2='cortisol_tool_pos_byTrial'#arous\n",
    "n3='placebo_alc_pos_byTrial'\n",
    "n4='placebo_tool_pos_byTrial'\n",
    "chi_sq(n1,n2,n3,n4,[network_ls_recog,network_ls_arous])"
   ]
  },
  {
   "cell_type": "code",
   "execution_count": 25,
   "id": "d7636ffb",
   "metadata": {},
   "outputs": [
    {
     "name": "stdout",
     "output_type": "stream",
     "text": [
      "Chi sq Test: \n",
      "\n",
      "Overlap1: memory_cortisol_alc_neg vs arousal_cortisol_tool_neg\n",
      "Number of edges: 111.0 vs 3099.0, Overlap edges: 4.0\n",
      "Overlap2: memory_placebo_alc_neg vs arousal_placebo_tool_neg\n",
      "Number of edges: 217.0 vs 2154.0, Overlap edges: 33.0\n",
      "n: 5544.0\n",
      "p value is 0.000\n",
      "stat 31.852\n"
     ]
    }
   ],
   "source": [
    "\n",
    "n1='cortisol_alc_neg_byTrial' #mem\n",
    "n2='cortisol_tool_neg_byTrial' #arous\n",
    "n3='placebo_alc_neg_byTrial'\n",
    "n4='placebo_tool_neg_byTrial'\n",
    "chi_sq(n1,n2,n3,n4,[network_ls_recog,network_ls_arous])"
   ]
  },
  {
   "cell_type": "code",
   "execution_count": 26,
   "id": "68fc89cb",
   "metadata": {},
   "outputs": [
    {
     "name": "stdout",
     "output_type": "stream",
     "text": [
      "Chi sq Test: \n",
      "\n",
      "Overlap1: memory_cortisol_tool_pos vs arousal_cortisol_alc_pos\n",
      "Number of edges: 582.0 vs 3873.0, Overlap edges: 108.0\n",
      "Overlap2: memory_placebo_tool_pos vs arousal_placebo_alc_pos\n",
      "Number of edges: 515.0 vs 1279.0, Overlap edges: 3.0\n",
      "n: 6138.0\n",
      "p value is 0.000\n",
      "stat 37.053\n"
     ]
    }
   ],
   "source": [
    "n1='cortisol_tool_pos_byTrial'#mem\n",
    "n2='cortisol_alc_pos_byTrial'#arous\n",
    "n3='placebo_tool_pos_byTrial'\n",
    "n4='placebo_alc_pos_byTrial'\n",
    "chi_sq(n1,n2,n3,n4,[network_ls_recog,network_ls_arous])"
   ]
  },
  {
   "cell_type": "code",
   "execution_count": 27,
   "id": "20a77924",
   "metadata": {},
   "outputs": [
    {
     "name": "stdout",
     "output_type": "stream",
     "text": [
      "Chi sq Test: \n",
      "\n",
      "Overlap1: memory_cortisol_tool_neg vs arousal_cortisol_alc_neg\n",
      "Number of edges: 371.0 vs 796.0, Overlap edges: 26.0\n",
      "Overlap2: memory_placebo_tool_neg vs arousal_placebo_alc_neg\n",
      "Number of edges: 2423.0 vs 537.0, Overlap edges: 17.0\n",
      "n: 4084.0\n",
      "p value is 0.000\n",
      "stat 21.234\n"
     ]
    }
   ],
   "source": [
    "n1='cortisol_tool_neg_byTrial'#mem\n",
    "n2='cortisol_alc_neg_byTrial'#arous\n",
    "n3='placebo_tool_neg_byTrial'\n",
    "n4='placebo_alc_neg_byTrial'\n",
    "chi_sq(n1,n2,n3,n4,[network_ls_recog,network_ls_arous])"
   ]
  },
  {
   "cell_type": "code",
   "execution_count": null,
   "id": "0c4d9d0f-1ba5-44bd-b866-9df60dc5531d",
   "metadata": {},
   "outputs": [],
   "source": []
  }
 ],
 "metadata": {
  "kernelspec": {
   "display_name": "Python 3 (ipykernel)",
   "language": "python",
   "name": "python3"
  },
  "language_info": {
   "codemirror_mode": {
    "name": "ipython",
    "version": 3
   },
   "file_extension": ".py",
   "mimetype": "text/x-python",
   "name": "python",
   "nbconvert_exporter": "python",
   "pygments_lexer": "ipython3",
   "version": "3.12.4"
  }
 },
 "nbformat": 4,
 "nbformat_minor": 5
}
