{
 "cells": [
  {
   "cell_type": "code",
   "execution_count": null,
   "id": "ccf418dd",
   "metadata": {},
   "outputs": [],
   "source": [
    "import numpy as np \n",
    "import pandas as pd\n",
    "import scipy.io \n",
    "from collections import Counter"
   ]
  },
  {
   "cell_type": "code",
   "execution_count": null,
   "id": "5e88b542",
   "metadata": {},
   "outputs": [],
   "source": [
    "from sklearn.metrics import accuracy_score"
   ]
  },
  {
   "cell_type": "code",
   "execution_count": null,
   "id": "ecda7a60",
   "metadata": {},
   "outputs": [],
   "source": [
    "def calc_stats(df, null, y, pheno, pheno_col, stim, pill):\n",
    "    def calc_type_acc(pred_type):\n",
    "        null_pred = null['null'][f'{pred_type}_y_predict'][0,0]\n",
    "        test_pred = null['test']['y_predict'][0,0][pred_type][0,0]\n",
    "        \n",
    "        null_accs = np.apply_along_axis(lambda a: accuracy_score(y, a), 1, null_pred)\n",
    "        test_acc = accuracy_score(y, test_pred.flatten())\n",
    "        pvalue = np.sum(test_acc <= null_accs) / 1000\n",
    "        \n",
    "        df.loc[(df[pheno_col]==pheno) & (df['stim']==stim) & (df['pill']==pill), \n",
    "               f'{pred_type}_acc'] = test_acc\n",
    "        df.loc[(df[pheno_col]==pheno) & (df['stim']==stim) & (df['pill']==pill), \n",
    "               f'{pred_type}_acc_pvalue'] = pvalue\n",
    "        \n",
    "        return null_accs, test_acc\n",
    "    \n",
    "    # Calculate stats for mean, pos, and neg predictions\n",
    "    null_acc_mean, test_acc_mean = calc_type_acc('mean')\n",
    "    calc_type_acc('pos')\n",
    "    calc_type_acc('neg')\n",
    "    \n",
    "    return df, null_acc_mean, test_acc_mean"
   ]
  },
  {
   "cell_type": "code",
   "execution_count": null,
   "id": "22f5af80-4854-4364-8099-e3485eff69cd",
   "metadata": {},
   "outputs": [],
   "source": [
    "folder = \"../results/dynamic_connectivity/\";"
   ]
  },
  {
   "cell_type": "code",
   "execution_count": null,
   "id": "c1f6338e",
   "metadata": {},
   "outputs": [],
   "source": [
    "pheno_ls=[\"RecogAcc_coded\"];  \n",
    "stim_ls=[\"alc\",\"tool\"];\n",
    "pill_ls=[\"cortisol\",\"placebo\"];\n",
    "neg_rho=[];\n",
    "pos_rho=[];\n",
    "mean_pvalue=[];\n",
    "neg_pvalue=[];\n",
    "pos_pvalue=[];\n",
    "df=pd.read_csv('result/all_cpm_results_with_pvalues.csv')\n",
    "for pheno in pheno_ls:\n",
    "    for stim in stim_ls:\n",
    "        for pill in pill_ls:\n",
    "            # pull permutation data\n",
    "            filename='result/permutation/'+pheno+'_byTrial_'+pill+'_'+stim+'_p0.01.mat'\n",
    "            null = scipy.io.loadmat(filename)\n",
    "\n",
    "            #pull actual value by trial\n",
    "            filename=folder+'n26_'+pheno+'_'+pill+'_'+stim+'_trialID_dynamic_connectome.mat'\n",
    "            data=scipy.io.loadmat(filename);\n",
    "            y=data['y'][0]\n",
    "            \n",
    "            df,null_acc,test_acc=calc_stats(df,null,y,pheno,\"pheno\",stim,pill)\n",
    "            \n",
    "            pd.DataFrame({'pill':pill,'stim':stim,'null_roc':null_acc,'test_roc':test_acc}).to_csv('result/permutation/'+pheno+'_'+pill+'_'+stim+'_permutation_acc.csv',index=False)\n",
    "df.to_csv('result/all_cpm_results_with_pvalues_updated.csv')\n"
   ]
  },
  {
   "cell_type": "markdown",
   "id": "59cfe1a4",
   "metadata": {},
   "source": [
    "# generalize across construct"
   ]
  },
  {
   "cell_type": "code",
   "execution_count": null,
   "id": "95771c9d",
   "metadata": {},
   "outputs": [],
   "source": [
    "stim_ls=[\"alc\",\"tool\"];\n",
    "pill_ls=[\"cortisol\",\"placebo\"];\n",
    "neg_rho=[];\n",
    "pos_rho=[];\n",
    "mean_pvalue=[];\n",
    "neg_pvalue=[];\n",
    "pos_pvalue=[];\n",
    "df=pd.read_csv('result/generalization_across_construct_cpm_results_with_pvalues.csv')\n",
    "pheno_ls=[\"RecogAcc_coded\"];  \n",
    "for pheno in pheno_ls:\n",
    "    for stim in stim_ls:\n",
    "        for pill in pill_ls:\n",
    "            \n",
    "            # pull permutation data\n",
    "            if pheno==\"Arous_All\":\n",
    "                filename='result/permutation/RecogAcc_coded_'+pheno+'_byTrial_'+pill+'_'+stim+'_p0.01.mat'\n",
    "            else:\n",
    "                filename='result/permutation/Arous_All_'+pheno+'_byTrial_'+pill+'_'+stim+'_p0.01.mat'\n",
    "            null = scipy.io.loadmat(filename)\n",
    "            \n",
    "            #pull actual value by trial\n",
    "            filename=folder+'n26_'+pheno+'_'+pill+'_'+stim+'_trialID_dynamic_connectome.mat'\n",
    "            data=scipy.io.loadmat(filename);\n",
    "            y=data['y'][0]\n",
    "            df,null_acc,test_acc=calc_stats(df,null,y,pheno,\"test on\",stim,pill)\n",
    "            \n",
    "            pd.DataFrame({'pill':pill,'stim':stim,'null_roc':null_acc,'test_roc':test_acc}).to_csv('result/permutation/Arous_All_'+pheno+'_'+pill+'_'+stim+'_permutation_acc.csv',index=False)\n",
    "\n",
    "df.to_csv('result/generalization_across_construct_cpm_results_with_pvalues_updated.csv')\n"
   ]
  },
  {
   "cell_type": "markdown",
   "id": "b50be7b7",
   "metadata": {},
   "source": [
    "# generalize across stim"
   ]
  },
  {
   "cell_type": "code",
   "execution_count": null,
   "id": "01062362-01e4-49ee-8bb9-b54952d34882",
   "metadata": {},
   "outputs": [],
   "source": [
    "def calc_stats(df,null,y,pheno,stim,pill):\n",
    "    def calc_type_acc(pred_type):\n",
    "        null_pred = null['null'][f'{pred_type}_y_predict'][0,0]\n",
    "        test_pred = null['test']['y_predict'][0,0][pred_type][0,0]\n",
    "        \n",
    "        null_accs = np.apply_along_axis(lambda a: accuracy_score(y, a), 1, null_pred)\n",
    "        test_acc = accuracy_score(y, test_pred.flatten())\n",
    "        pvalue = np.sum(test_acc <= null_accs) / 1000\n",
    "\n",
    "        df.loc[ (df['behavior']==pheno) & (df['train on']==stim)& (df['pill']==pill),\n",
    "               f'{pred_type}_acc'] = test_acc\n",
    "        df.loc[ (df['behavior']==pheno) & (df['train on']==stim)& (df['pill']==pill),\n",
    "               f'{pred_type}_acc_pvalue'] = pvalue\n",
    "        \n",
    "        return null_accs, test_acc\n",
    "    \n",
    "    # Calculate stats for mean, pos, and neg predictions\n",
    "    null_acc_mean, test_acc_mean = calc_type_acc('mean')\n",
    "    calc_type_acc('pos')\n",
    "    calc_type_acc('neg')\n",
    "    \n",
    "    return df, null_acc_mean, test_acc_mean"
   ]
  },
  {
   "cell_type": "code",
   "execution_count": null,
   "id": "fc23eb7d",
   "metadata": {
    "scrolled": true
   },
   "outputs": [],
   "source": [
    "stim_ls=[\"alc\",\"tool\"];\n",
    "pill_ls=[\"cortisol\",\"placebo\"];\n",
    "result_table=pd.read_csv('result/all_cpm_results.csv');\n",
    "neg_rho=[];\n",
    "pos_rho=[];\n",
    "mean_pvalue=[];\n",
    "neg_pvalue=[];\n",
    "pos_pvalue=[];\n",
    "df=pd.read_csv('result/generalization_across_stim_cpm_results_with_pvalues.csv')\n",
    "pheno='RecogAcc_coded'\n",
    "for stim in stim_ls:\n",
    "    for pill in pill_ls:\n",
    "        if stim ==\"alc\":\n",
    "            filename='result/permutation/'+pheno+'_byTrial_'+pill+'_tool_'+stim+'_p0.01.mat'\n",
    "            outfile='result/permutation/'+pheno+'_'+pill+'_tool_'+stim+'_permutation_acc.csv'\n",
    "        else:\n",
    "            filename='result/permutation/'+pheno+'_byTrial_'+pill+'_alc_'+stim+'_p0.01.mat'\n",
    "            outfile='result/permutation/'+pheno+'_'+pill+'_alc_'+stim+'_permutation_acc.csv'\n",
    "\n",
    "        null = scipy.io.loadmat(filename)\n",
    "        filename=folder+'n26_'+pheno+'_'+pill+'_'+stim+'_trialID_dynamic_connectome.mat'\n",
    "        data=scipy.io.loadmat(filename);\n",
    "        y=data['y'][0]\n",
    "        \n",
    "        df,null_acc,test_acc=calc_stats(df,null,y,pheno,stim,pill)\n",
    "        pd.DataFrame({'pill':pill,'stim':stim,'null_roc':null_acc,'test_roc':test_acc}).to_csv(outfile,index=False)\n",
    "\n",
    "df.to_csv('result/generalization_across_stim_cpm_results_with_pvalues_updated.csv')"
   ]
  },
  {
   "cell_type": "code",
   "execution_count": null,
   "id": "bd4776c6-9dee-4865-bc06-54e3d40c667e",
   "metadata": {},
   "outputs": [],
   "source": []
  }
 ],
 "metadata": {
  "kernelspec": {
   "display_name": "Python 3 (ipykernel)",
   "language": "python",
   "name": "python3"
  },
  "language_info": {
   "codemirror_mode": {
    "name": "ipython",
    "version": 3
   },
   "file_extension": ".py",
   "mimetype": "text/x-python",
   "name": "python",
   "nbconvert_exporter": "python",
   "pygments_lexer": "ipython3",
   "version": "3.12.4"
  }
 },
 "nbformat": 4,
 "nbformat_minor": 5
}
